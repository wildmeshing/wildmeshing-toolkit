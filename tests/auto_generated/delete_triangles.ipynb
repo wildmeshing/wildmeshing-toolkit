{
 "cells": [
  {
   "cell_type": "code",
   "execution_count": 1,
   "metadata": {},
   "outputs": [],
   "source": [
    "import igl\n",
    "import numpy as np\n",
    "import meshplot as mp\n",
    "from collections import defaultdict"
   ]
  },
  {
   "cell_type": "code",
   "execution_count": 2,
   "metadata": {},
   "outputs": [],
   "source": [
    "def is_mesh_edge_manifold(faces):\n",
    "    from collections import defaultdict\n",
    "    edge_count = defaultdict(int)\n",
    "    for face in faces:\n",
    "        for i in range(3):\n",
    "            edge = tuple(sorted([face[i], face[(i+1)%3]]))\n",
    "            edge_count[edge] += 1\n",
    "    return all(count <= 2 for count in edge_count.values())\n",
    "\n",
    "def check_vertex_manifold(vertex, faces, vertex_to_faces):\n",
    "    connected_faces = vertex_to_faces[vertex]\n",
    "    visited_faces = set()\n",
    "    if (len(connected_faces) == 0):\n",
    "        return True\n",
    "    stack = [next(iter(connected_faces))]\n",
    "\n",
    "    while stack:\n",
    "        current_face = stack.pop()\n",
    "        visited_faces.add(current_face)\n",
    "\n",
    "        for idx in faces[current_face]:\n",
    "            if idx != vertex:\n",
    "                neighbor_faces = vertex_to_faces[idx] & vertex_to_faces[vertex] - visited_faces\n",
    "                stack.extend(neighbor_faces)\n",
    "\n",
    "    return visited_faces == connected_faces\n",
    "\n",
    "def is_mesh_vertex_manifold(faces, vertex_to_check = None):\n",
    "    from collections import defaultdict\n",
    "\n",
    "    vertex_to_faces = defaultdict(set)\n",
    "    for i, face in enumerate(faces):\n",
    "        for vertex in face:\n",
    "            vertex_to_faces[vertex].add(i)\n",
    "    \n",
    "    if vertex_to_check is None:\n",
    "        vertex_to_check = vertex_to_faces.keys()\n",
    "        \n",
    "    for vertex in vertex_to_check:\n",
    "        if (not check_vertex_manifold(vertex, faces, vertex_to_faces)):\n",
    "            return False\n",
    "\n",
    "    return True\n",
    "\n",
    "def is_mesh_manifold(faces):\n",
    "    return is_mesh_edge_manifold(faces) and is_mesh_vertex_manifold(faces)"
   ]
  },
  {
   "cell_type": "code",
   "execution_count": 3,
   "metadata": {},
   "outputs": [],
   "source": [
    "def radom_delete(faces, prob=0.1):\n",
    "    mask = np.random.rand(faces.shape[0]) > prob\n",
    "    return faces[mask]\n",
    "def remove_redundant_vertices(vertices, faces):\n",
    "    unique_vertices, indices = np.unique(faces, return_inverse=True)\n",
    "    new_vertices = vertices[unique_vertices]\n",
    "    new_faces = indices.reshape(faces.shape)\n",
    "    return new_vertices, new_faces"
   ]
  },
  {
   "cell_type": "code",
   "execution_count": 4,
   "metadata": {},
   "outputs": [],
   "source": [
    "# delele one by one and check manifold\n",
    "def delete_one_by_one(faces, prob=0.1):\n",
    "    target_size = faces.shape[0] * (1 - prob)\n",
    "    # random pick one to be false\n",
    "    while faces.shape[0] > target_size:\n",
    "        index_to_delete = np.random.randint(faces.shape[0])\n",
    "        new_faces = np.vstack((faces[:index_to_delete], faces[index_to_delete+1:]))\n",
    "        if is_mesh_vertex_manifold(new_faces, faces[index_to_delete]):\n",
    "            faces = new_faces\n",
    "    return faces\n"
   ]
  },
  {
   "cell_type": "code",
   "execution_count": 5,
   "metadata": {},
   "outputs": [],
   "source": [
    "# a better version to delete one by one\n",
    "def delete_one_by_one_better(faces, prob=0.1, max_fail_cnt = 500):\n",
    "    target_size = faces.shape[0] * (1 - prob)\n",
    "    # random pick one to be false\n",
    "    mask = np.ones(faces.shape[0], dtype=bool)\n",
    "    vertex_to_faces = defaultdict(set)\n",
    "    for i, face in enumerate(faces):\n",
    "        for vertex in face:\n",
    "            vertex_to_faces[vertex].add(i)\n",
    "    current_size = faces.shape[0]\n",
    "    fail_cnt = 0\n",
    "    while current_size > target_size:\n",
    "        index_to_delete = np.random.randint(faces.shape[0])\n",
    "       \n",
    "        while not mask[index_to_delete]:\n",
    "            index_to_delete = np.random.randint(faces.shape[0])\n",
    "        mask[index_to_delete] = False\n",
    "        for vid in faces[index_to_delete]:\n",
    "            vertex_to_faces[vid].remove(index_to_delete)\n",
    "        \n",
    "        flag = True\n",
    "        # check if still vertex manifold\n",
    "        for vid in faces[index_to_delete]:\n",
    "            flag &= check_vertex_manifold(vid, faces, vertex_to_faces)\n",
    "        if not flag:\n",
    "            mask[index_to_delete] = True\n",
    "            for vid in faces[index_to_delete]:\n",
    "                vertex_to_faces[vid].add(index_to_delete)\n",
    "            fail_cnt += 1\n",
    "        else:\n",
    "            current_size -= 1\n",
    "            fail_cnt = 0\n",
    "        if fail_cnt > max_fail_cnt:\n",
    "            print(\"consecutive fail to delete one more than {} times\".format(max_fail_cnt))\n",
    "            print(\"current size: {}, current size / input size: {}\".format(current_size, current_size / faces.shape[0]))\n",
    "            break\n",
    "    return faces[mask]"
   ]
  },
  {
   "cell_type": "code",
   "execution_count": 6,
   "metadata": {},
   "outputs": [
    {
     "name": "stderr",
     "output_type": "stream",
     "text": [
      "/home/leyi/miniconda3/envs/cm_env/lib/python3.9/site-packages/jupyter_client/session.py:719: UserWarning: Message serialization failed with:\n",
      "Out of range float values are not JSON compliant\n",
      "Supporting this message is deprecated in jupyter-client 7, please make sure your message is JSON-compliant\n",
      "  content = self.pack(content)\n"
     ]
    },
    {
     "data": {
      "application/vnd.jupyter.widget-view+json": {
       "model_id": "a505157d945d4d9c903d6f63ed9331f3",
       "version_major": 2,
       "version_minor": 0
      },
      "text/plain": [
       "Renderer(camera=PerspectiveCamera(children=(DirectionalLight(color='white', intensity=0.6, position=(0.0, 0.20…"
      ]
     },
     "metadata": {},
     "output_type": "display_data"
    },
    {
     "data": {
      "text/plain": [
       "<meshplot.Viewer.Viewer at 0x7f06fa8ffee0>"
      ]
     },
     "execution_count": 6,
     "metadata": {},
     "output_type": "execute_result"
    }
   ],
   "source": [
    "model_name = \"blub\"\n",
    "v,_,_,f,_,_ = igl.read_obj(\"../../data/{}.obj\".format(model_name))\n",
    "mp.plot(v, f, shading={\"wireframe\": True})"
   ]
  },
  {
   "cell_type": "code",
   "execution_count": 7,
   "metadata": {},
   "outputs": [
    {
     "name": "stdout",
     "output_type": "stream",
     "text": [
      "consecutive fail to delete one more than 500 times\n",
      "current size: 10160, current size / input size: 0.7150900900900901\n"
     ]
    },
    {
     "data": {
      "application/vnd.jupyter.widget-view+json": {
       "model_id": "392bf2dd1dff453fa2f02b5d4f80a2c5",
       "version_major": 2,
       "version_minor": 0
      },
      "text/plain": [
       "Renderer(camera=PerspectiveCamera(children=(DirectionalLight(color='white', intensity=0.6, position=(0.0, 0.20…"
      ]
     },
     "metadata": {},
     "output_type": "display_data"
    }
   ],
   "source": [
    "del_prob = 0.5\n",
    "v_new, f_new = remove_redundant_vertices(v, delete_one_by_one_better(f, del_prob, 500))\n",
    "\n",
    "if (is_mesh_manifold(f_new)):\n",
    "    igl.write_obj(\"{}_{}.obj\".format(model_name, 1-del_prob), v_new, f_new)\n",
    "    mp.plot(v_new, f_new, shading={\"wireframe\": True})"
   ]
  },
  {
   "cell_type": "code",
   "execution_count": 10,
   "metadata": {},
   "outputs": [
    {
     "data": {
      "text/plain": [
       "(True, True, True)"
      ]
     },
     "execution_count": 10,
     "metadata": {},
     "output_type": "execute_result"
    }
   ],
   "source": [
    "is_mesh_edge_manifold(f_new), is_mesh_vertex_manifold(f_new), is_mesh_manifold(f_new)\n",
    "mp.plot(v_new, f_new, shading={\"wireframe\": True})"
   ]
  },
  {
   "cell_type": "code",
   "execution_count": null,
   "metadata": {},
   "outputs": [],
   "source": []
  }
 ],
 "metadata": {
  "kernelspec": {
   "display_name": "Python 3 (ipykernel)",
   "language": "python",
   "name": "python3"
  },
  "language_info": {
   "codemirror_mode": {
    "name": "ipython",
    "version": 3
   },
   "file_extension": ".py",
   "mimetype": "text/x-python",
   "name": "python",
   "nbconvert_exporter": "python",
   "pygments_lexer": "ipython3",
   "version": "3.9.0"
  }
 },
 "nbformat": 4,
 "nbformat_minor": 2
}
