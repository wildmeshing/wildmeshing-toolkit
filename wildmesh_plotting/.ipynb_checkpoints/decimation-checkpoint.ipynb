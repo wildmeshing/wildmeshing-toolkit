{
 "cells": [
  {
   "cell_type": "code",
   "execution_count": 11,
   "id": "thorough-flashing",
   "metadata": {},
   "outputs": [
    {
     "name": "stdout",
     "output_type": "stream",
     "text": [
      "wmtk decimate: 4056 ms \n",
      "# v :  5445 \n",
      "# f :  10848\n",
      "avg edge len :  6.570355371416812\n"
     ]
    },
    {
     "data": {
      "application/vnd.jupyter.widget-view+json": {
       "model_id": "91d2573ef9114a5a9238706a3379ae34",
       "version_major": 2,
       "version_minor": 0
      },
      "text/plain": [
       "Renderer(camera=PerspectiveCamera(children=(DirectionalLight(color='white', intensity=0.6, position=(30.958431…"
      ]
     },
     "metadata": {},
     "output_type": "display_data"
    },
    {
     "data": {
      "text/plain": [
       "<meshplot.Viewer.Viewer at 0x111e98190>"
      ]
     },
     "execution_count": 11,
     "metadata": {},
     "output_type": "execute_result"
    }
   ],
   "source": [
    "import igl\n",
    "import meshplot as mp\n",
    "v,f = igl.read_triangle_mesh(\"../build_release/old-max_112000.obj\")\n",
    "print(\"wmtk decimate: 4056 ms \")\n",
    "print(\"# v : \", len(v),\"\\n# f : \",len(f))\n",
    "print(\"avg edge len : \" , igl.avg_edge_length(v,f))\n",
    "\n",
    "mp.plot(v,f,shading={\"wireframe\":True})\n",
    "#./app/edge_operations /max-planck.obj 112000 old-max 0"
   ]
  },
  {
   "cell_type": "code",
   "execution_count": 17,
   "id": "moderate-tiffany",
   "metadata": {},
   "outputs": [
    {
     "name": "stdout",
     "output_type": "stream",
     "text": [
      "(True, array([[ -33.665707,  -40.458706,   38.695587],\n",
      "       [  61.481525, -176.470718,   97.1492  ],\n",
      "       [  60.374699, -176.740005,   99.8927  ],\n",
      "       ...,\n",
      "       [ -63.018398,    1.133   ,  125.509003],\n",
      "       [ -64.55632 ,    0.62535 ,  123.820824],\n",
      "       [ -64.375687,   -0.451451,  124.159508]]), array([[30860,  4602, 19831],\n",
      "       [ 4602,     0, 19831],\n",
      "       [    0, 10371, 19831],\n",
      "       ...,\n",
      "       [24123,   228, 23707],\n",
      "       [24123, 23707,   227],\n",
      "       [23707,   228,     9]], dtype=int64), array([    0,     1,     2, ..., 99988, 99989, 99990], dtype=int64), array([    0,     1,     2, ..., 50074, 50075, 50076], dtype=int64))\n",
      "cgal decimate: 96166 ms \n",
      "# v :  50077 \n",
      "# f :  99991\n",
      "avg edge len :  2.264695305946151\n"
     ]
    },
    {
     "data": {
      "application/vnd.jupyter.widget-view+json": {
       "model_id": "5ffcbfbfca7645e2afcffa53c9765c5c",
       "version_major": 2,
       "version_minor": 0
      },
      "text/plain": [
       "Renderer(camera=PerspectiveCamera(children=(DirectionalLight(color='white', intensity=0.6, position=(30.596862…"
      ]
     },
     "metadata": {},
     "output_type": "display_data"
    },
    {
     "data": {
      "text/plain": [
       "<meshplot.Viewer.Viewer at 0x111dcdfd0>"
      ]
     },
     "execution_count": 17,
     "metadata": {},
     "output_type": "execute_result"
    }
   ],
   "source": [
    "import igl\n",
    "import meshplot as mp\n",
    "v,f = igl.read_triangle_mesh(\"../data/max-planck.obj\")\n",
    "\n",
    "re = igl.decimate(v,f, 300000)\n"
   ]
  },
  {
   "cell_type": "code",
   "execution_count": 22,
   "id": "celtic-brook",
   "metadata": {},
   "outputs": [
    {
     "name": "stdout",
     "output_type": "stream",
     "text": [
      "(True, array([[ -33.665707,  -40.458706,   38.695587],\n",
      "       [  61.481525, -176.470718,   97.1492  ],\n",
      "       [  60.374699, -176.740005,   99.8927  ],\n",
      "       ...,\n",
      "       [ -63.018398,    1.133   ,  125.509003],\n",
      "       [ -64.55632 ,    0.62535 ,  123.820824],\n",
      "       [ -64.375687,   -0.451451,  124.159508]]), array([[30860,  4602, 19831],\n",
      "       [ 4602,     0, 19831],\n",
      "       [    0, 10371, 19831],\n",
      "       ...,\n",
      "       [24123,   228, 23707],\n",
      "       [24123, 23707,   227],\n",
      "       [23707,   228,     9]], dtype=int64), array([    0,     1,     2, ..., 99988, 99989, 99990], dtype=int64), array([    0,     1,     2, ..., 50074, 50075, 50076], dtype=int64))\n",
      "cgal decimate: 96166 ms \n",
      "# v :  50077 \n",
      "# f :  99991\n",
      "avg edge len :  2.264695305946151\n"
     ]
    },
    {
     "ename": "AttributeError",
     "evalue": "'bool' object has no attribute 'shape'",
     "output_type": "error",
     "traceback": [
      "\u001b[0;31m---------------------------------------------------------------------------\u001b[0m",
      "\u001b[0;31mAttributeError\u001b[0m                            Traceback (most recent call last)",
      "\u001b[0;32m<ipython-input-22-286acac0f7bf>\u001b[0m in \u001b[0;36m<module>\u001b[0;34m\u001b[0m\n\u001b[1;32m      6\u001b[0m \u001b[0mprint\u001b[0m\u001b[0;34m(\u001b[0m\u001b[0;34m\"avg edge len : \"\u001b[0m \u001b[0;34m,\u001b[0m \u001b[0migl\u001b[0m\u001b[0;34m.\u001b[0m\u001b[0mavg_edge_length\u001b[0m\u001b[0;34m(\u001b[0m\u001b[0mv\u001b[0m\u001b[0;34m,\u001b[0m\u001b[0mf\u001b[0m\u001b[0;34m)\u001b[0m\u001b[0;34m)\u001b[0m\u001b[0;34m\u001b[0m\u001b[0;34m\u001b[0m\u001b[0m\n\u001b[1;32m      7\u001b[0m \u001b[0;34m\u001b[0m\u001b[0m\n\u001b[0;32m----> 8\u001b[0;31m \u001b[0mmp\u001b[0m\u001b[0;34m.\u001b[0m\u001b[0mplot\u001b[0m\u001b[0;34m(\u001b[0m\u001b[0mnewv\u001b[0m\u001b[0;34m,\u001b[0m\u001b[0mnewf\u001b[0m\u001b[0;34m,\u001b[0m\u001b[0mshading\u001b[0m\u001b[0;34m=\u001b[0m\u001b[0;34m{\u001b[0m\u001b[0;34m\"wireframe\"\u001b[0m\u001b[0;34m:\u001b[0m\u001b[0;32mTrue\u001b[0m\u001b[0;34m}\u001b[0m\u001b[0;34m)\u001b[0m\u001b[0;34m\u001b[0m\u001b[0;34m\u001b[0m\u001b[0m\n\u001b[0m\u001b[1;32m      9\u001b[0m \u001b[0;31m#./sec\u001b[0m\u001b[0;34m\u001b[0m\u001b[0;34m\u001b[0m\u001b[0;34m\u001b[0m\u001b[0m\n",
      "\u001b[0;32m~/miniconda3/envs/geometryprocessing/lib/python3.9/site-packages/meshplot/plot.py\u001b[0m in \u001b[0;36mplot\u001b[0;34m(v, f, c, uv, n, shading, plot, return_plot, filename, texture_data)\u001b[0m\n\u001b[1;32m     88\u001b[0m         \u001b[0mobj_id\u001b[0m \u001b[0;34m=\u001b[0m \u001b[0mview\u001b[0m\u001b[0;34m.\u001b[0m\u001b[0madd_edges\u001b[0m\u001b[0;34m(\u001b[0m\u001b[0mv\u001b[0m\u001b[0;34m,\u001b[0m \u001b[0mf\u001b[0m\u001b[0;34m,\u001b[0m \u001b[0mshading\u001b[0m\u001b[0;34m=\u001b[0m\u001b[0mshading\u001b[0m\u001b[0;34m)\u001b[0m\u001b[0;34m\u001b[0m\u001b[0;34m\u001b[0m\u001b[0m\n\u001b[1;32m     89\u001b[0m     \u001b[0;32melse\u001b[0m\u001b[0;34m:\u001b[0m \u001b[0;31m# Plot mesh\u001b[0m\u001b[0;34m\u001b[0m\u001b[0;34m\u001b[0m\u001b[0m\n\u001b[0;32m---> 90\u001b[0;31m         \u001b[0mobj_id\u001b[0m \u001b[0;34m=\u001b[0m \u001b[0mview\u001b[0m\u001b[0;34m.\u001b[0m\u001b[0madd_mesh\u001b[0m\u001b[0;34m(\u001b[0m\u001b[0mv\u001b[0m\u001b[0;34m,\u001b[0m \u001b[0mf\u001b[0m\u001b[0;34m,\u001b[0m \u001b[0mc\u001b[0m\u001b[0;34m,\u001b[0m \u001b[0muv\u001b[0m\u001b[0;34m=\u001b[0m\u001b[0muv\u001b[0m\u001b[0;34m,\u001b[0m \u001b[0mn\u001b[0m\u001b[0;34m=\u001b[0m\u001b[0mn\u001b[0m\u001b[0;34m,\u001b[0m \u001b[0mshading\u001b[0m\u001b[0;34m=\u001b[0m\u001b[0mshading\u001b[0m\u001b[0;34m,\u001b[0m \u001b[0mtexture_data\u001b[0m\u001b[0;34m=\u001b[0m\u001b[0mtexture_data\u001b[0m\u001b[0;34m)\u001b[0m\u001b[0;34m\u001b[0m\u001b[0;34m\u001b[0m\u001b[0m\n\u001b[0m\u001b[1;32m     91\u001b[0m \u001b[0;34m\u001b[0m\u001b[0m\n\u001b[1;32m     92\u001b[0m     \u001b[0;32mif\u001b[0m \u001b[0;32mnot\u001b[0m \u001b[0mplot\u001b[0m \u001b[0;32mand\u001b[0m \u001b[0mrendertype\u001b[0m \u001b[0;34m==\u001b[0m \u001b[0;34m\"JUPYTER\"\u001b[0m\u001b[0;34m:\u001b[0m\u001b[0;34m\u001b[0m\u001b[0;34m\u001b[0m\u001b[0m\n",
      "\u001b[0;32m~/miniconda3/envs/geometryprocessing/lib/python3.9/site-packages/meshplot/Viewer.py\u001b[0m in \u001b[0;36madd_mesh\u001b[0;34m(self, v, f, c, uv, n, shading, texture_data)\u001b[0m\n\u001b[1;32m    184\u001b[0m \u001b[0;34m\u001b[0m\u001b[0m\n\u001b[1;32m    185\u001b[0m         \u001b[0;31m#it is a tet\u001b[0m\u001b[0;34m\u001b[0m\u001b[0;34m\u001b[0m\u001b[0;34m\u001b[0m\u001b[0m\n\u001b[0;32m--> 186\u001b[0;31m         \u001b[0;32mif\u001b[0m \u001b[0mv\u001b[0m\u001b[0;34m.\u001b[0m\u001b[0mshape\u001b[0m\u001b[0;34m[\u001b[0m\u001b[0;36m1\u001b[0m\u001b[0;34m]\u001b[0m \u001b[0;34m==\u001b[0m \u001b[0;36m3\u001b[0m \u001b[0;32mand\u001b[0m \u001b[0mf\u001b[0m\u001b[0;34m.\u001b[0m\u001b[0mshape\u001b[0m\u001b[0;34m[\u001b[0m\u001b[0;36m1\u001b[0m\u001b[0;34m]\u001b[0m \u001b[0;34m==\u001b[0m \u001b[0;36m4\u001b[0m\u001b[0;34m:\u001b[0m\u001b[0;34m\u001b[0m\u001b[0;34m\u001b[0m\u001b[0m\n\u001b[0m\u001b[1;32m    187\u001b[0m             \u001b[0mf_tmp\u001b[0m \u001b[0;34m=\u001b[0m \u001b[0mnp\u001b[0m\u001b[0;34m.\u001b[0m\u001b[0mndarray\u001b[0m\u001b[0;34m(\u001b[0m\u001b[0;34m[\u001b[0m\u001b[0mf\u001b[0m\u001b[0;34m.\u001b[0m\u001b[0mshape\u001b[0m\u001b[0;34m[\u001b[0m\u001b[0;36m0\u001b[0m\u001b[0;34m]\u001b[0m\u001b[0;34m*\u001b[0m\u001b[0;36m4\u001b[0m\u001b[0;34m,\u001b[0m \u001b[0;36m3\u001b[0m\u001b[0;34m]\u001b[0m\u001b[0;34m,\u001b[0m \u001b[0mdtype\u001b[0m\u001b[0;34m=\u001b[0m\u001b[0mf\u001b[0m\u001b[0;34m.\u001b[0m\u001b[0mdtype\u001b[0m\u001b[0;34m)\u001b[0m\u001b[0;34m\u001b[0m\u001b[0;34m\u001b[0m\u001b[0m\n\u001b[1;32m    188\u001b[0m             \u001b[0;32mfor\u001b[0m \u001b[0mi\u001b[0m \u001b[0;32min\u001b[0m \u001b[0mrange\u001b[0m\u001b[0;34m(\u001b[0m\u001b[0mf\u001b[0m\u001b[0;34m.\u001b[0m\u001b[0mshape\u001b[0m\u001b[0;34m[\u001b[0m\u001b[0;36m0\u001b[0m\u001b[0;34m]\u001b[0m\u001b[0;34m)\u001b[0m\u001b[0;34m:\u001b[0m\u001b[0;34m\u001b[0m\u001b[0;34m\u001b[0m\u001b[0m\n",
      "\u001b[0;31mAttributeError\u001b[0m: 'bool' object has no attribute 'shape'"
     ]
    }
   ],
   "source": [
    "newv = re[1]\n",
    "newf = re[2]\n",
    "print (re)\n",
    "print(\"cgal decimate: 96166 ms \")\n",
    "print(\"# v : \", len(v),\"\\n# f : \",len(f))\n",
    "print(\"avg edge len : \" , igl.avg_edge_length(v,f))\n",
    "\n",
    "mp.plot(newv,newf,shading={\"wireframe\":True})\n",
    "#./sec "
   ]
  }
 ],
 "metadata": {
  "kernelspec": {
   "display_name": "Python 3",
   "language": "python",
   "name": "python3"
  },
  "language_info": {
   "codemirror_mode": {
    "name": "ipython",
    "version": 3
   },
   "file_extension": ".py",
   "mimetype": "text/x-python",
   "name": "python",
   "nbconvert_exporter": "python",
   "pygments_lexer": "ipython3",
   "version": "3.9.1"
  }
 },
 "nbformat": 4,
 "nbformat_minor": 5
}
