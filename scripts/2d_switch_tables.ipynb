{
 "cells": [
  {
   "cell_type": "code",
   "execution_count": 1,
   "metadata": {},
   "outputs": [],
   "source": [
    "from autogenerate import autogenerate"
   ]
  },
  {
   "cell_type": "code",
   "execution_count": 2,
   "metadata": {},
   "outputs": [
    {
     "data": {
      "text/plain": [
       "3"
      ]
     },
     "execution_count": 2,
     "metadata": {},
     "output_type": "execute_result"
    }
   ],
   "source": [
    "# The index convenction is arbitrary, \n",
    "# orientation is not important here\n",
    "\n",
    "vertices = [{0},{1},{2}]\n",
    "\n",
    "edges = [\n",
    "        {1,2},\n",
    "        {2,0},\n",
    "        {0,1},\n",
    "]\n",
    "\n",
    "edges_oriented = [\n",
    "        [1,2],\n",
    "        [2,0],\n",
    "        [0,1],    \n",
    "]\n",
    "\n",
    "s = [vertices,edges]\n",
    "len(s[0])\n"
   ]
  },
  {
   "cell_type": "code",
   "execution_count": 3,
   "metadata": {},
   "outputs": [],
   "source": [
    "# Generates all possible tuples, note that some might not be valid\n",
    "def all_tuples(s):\n",
    "    return [[i,j] for i in range(len(s[0])) for j in range(len(s[1]))]\n",
    "\n",
    "# Check if a tuple is valid, i.e. if the simplex of dimension d-1 is a face of a simplex of dimension d\n",
    "def valid_tuple(t,s):\n",
    "    return s[0][t[0]].issubset(s[1][t[1]]) \n",
    "\n",
    "# Check if a tuple is ccw\n",
    "def ccw_tuple(t,s):\n",
    "    assert(valid_tuple(t,s))\n",
    "    assert (edges_oriented[t[1]][0] in s[0][t[0]]) or (edges_oriented[t[1]][1] in s[0][t[0]])\n",
    "    return edges_oriented[t[1]][0] in s[0][t[0]]\n",
    "\n",
    "# valid = [t for t in all_tuples(s) if valid_tuple(t,s)]\n",
    "\n"
   ]
  },
  {
   "cell_type": "code",
   "execution_count": 4,
   "metadata": {},
   "outputs": [],
   "source": [
    "# Enumerates all valid tuples similar to t, but with a different value in the slot d\n",
    "# There must be 2 of them, and this function returns the one that is different than t\n",
    "def switch(t,d,s):\n",
    "    candidates = []\n",
    "    for i in range(len(s[d])):\n",
    "        t2 = t.copy()\n",
    "        t2[d] = i\n",
    "        candidates.append(t2)\n",
    "    valid = [x for x in candidates if valid_tuple(x,s)]\n",
    "    assert(len(valid) == 2)\n",
    "    valid.remove(t)\n",
    "    assert(len(valid) == 1)\n",
    "    return valid[0]"
   ]
  },
  {
   "cell_type": "code",
   "execution_count": 5,
   "metadata": {},
   "outputs": [],
   "source": [
    "def list_to_array(list_of_lists,name):\n",
    "    # Get the number of rows and columns in the list of lists\n",
    "    rows = len(list_of_lists)\n",
    "    cols = len(list_of_lists[0])\n",
    "\n",
    "    # Create the C++ code for the static array of arrays\n",
    "    cplusplus_code = \"static long \" + name +\"[\" + str(rows) + \"][\" + str(cols) + \"] = {\\n\"\n",
    "\n",
    "    # Loop through each row in the list of lists\n",
    "    for row in list_of_lists:\n",
    "        # Add the opening brace for the row\n",
    "        cplusplus_code += \"  {\"\n",
    "\n",
    "        # Loop through each element in the row\n",
    "        for element in row:\n",
    "            # Add the element to the row\n",
    "            cplusplus_code += str(element) + \", \"\n",
    "\n",
    "        # Remove the trailing comma and space from the row\n",
    "        cplusplus_code = cplusplus_code[:-2]\n",
    "\n",
    "        # Add the closing brace for the row\n",
    "        cplusplus_code += \"},\\n\"\n",
    "\n",
    "    # Remove the trailing comma and newline from the C++ code\n",
    "    cplusplus_code = cplusplus_code[:-2] + \"\\n};\\n\"\n",
    "\n",
    "    return cplusplus_code"
   ]
  },
  {
   "cell_type": "code",
   "execution_count": 6,
   "metadata": {},
   "outputs": [],
   "source": [
    "# Builds a table for the switch operation of dimension d\n",
    "def table(d,s):\n",
    "    # Generates a table for switch_vertex\n",
    "    sv = all_tuples(s)\n",
    "\n",
    "    for i in range(len(sv)):\n",
    "        if not valid_tuple(sv[i],s):\n",
    "            sv[i] = [-1,-1]\n",
    "        else:\n",
    "            sv[i] = switch(sv[i],d,s)\n",
    "\n",
    "    return sv"
   ]
  },
  {
   "cell_type": "code",
   "execution_count": 7,
   "metadata": {},
   "outputs": [],
   "source": [
    "# Builds a table for the switch operation of dimension d\n",
    "def table_ccw(s):\n",
    "    # Generates a table for switch_vertex\n",
    "    sv = all_tuples(s)\n",
    "    out = [-1 for i in sv]\n",
    "\n",
    "    for i in range(len(sv)):\n",
    "        if not valid_tuple(sv[i],s):\n",
    "            out[i] = -1\n",
    "        else:\n",
    "            if ccw_tuple(sv[i],s):\n",
    "                out[i] = 1\n",
    "            else:\n",
    "                out[i] = 0\n",
    "            \n",
    "    return out\n",
    "\n",
    "# table_ccw(\"auto_2d_table_ccw\",s)"
   ]
  },
  {
   "cell_type": "code",
   "execution_count": 8,
   "metadata": {},
   "outputs": [],
   "source": [
    "def table_complete_tuple(d,s):\n",
    "    # Generates a table for switch_vertex\n",
    "    sv = [t for t in all_tuples(s) if (valid_tuple(t,s) and ccw_tuple(t,s))]\n",
    "    out = []\n",
    "    for c in range(len(s[d])):\n",
    "        for i in range(len(sv)):\n",
    "            if c == sv[i][d]:\n",
    "                out.append(sv[i])\n",
    "                break\n",
    "    \n",
    "    assert(len(out) == len(s[d]))\n",
    "            \n",
    "    return out\n",
    "\n",
    "#table_complete_tuple(\"complete_vertex\",0,s)\n"
   ]
  },
  {
   "cell_type": "code",
   "execution_count": null,
   "metadata": {},
   "outputs": [],
   "source": []
  },
  {
   "cell_type": "code",
   "execution_count": 9,
   "metadata": {},
   "outputs": [],
   "source": [
    "def list_pair_to_array(lists, name, comment = None):\n",
    "    r = {\"name\": name, \"data\": lists}\n",
    "    if comment is not None: r[\"comment\"] = comment\n",
    "    return r"
   ]
  },
  {
   "cell_type": "code",
   "execution_count": 10,
   "metadata": {},
   "outputs": [],
   "source": [
    "tri_data = {\"namespace\": \"tri_mesh\", \"tables\": [\n",
    "list_pair_to_array(edges,\"auto_2d_edges\", \"lvids for a particular leid\"),\n",
    "list_pair_to_array(table(0,s),\"auto_2d_table_vertex\", \"vertex switch's (tuple_index -> [lvid,leid])\"),\n",
    "list_pair_to_array(table(1,s),\"auto_2d_table_edge\", \"edge switch's (tuple_index -> [lvid,leid])\"),\n",
    "list_pair_to_array(table_ccw(s),\"auto_2d_table_ccw\", \"(tuple_index) -> is_ccw\"),\n",
    "list_pair_to_array(table_complete_tuple(0,s),\"auto_2d_table_complete_vertex\", \"lvid -> a ccw [lvid,leid]\"),\n",
    "list_pair_to_array(table_complete_tuple(1,s),\"auto_2d_table_complete_edge\", \"leid -> a ccw [lvid,leid]\")]}\n"
   ]
  },
  {
   "cell_type": "code",
   "execution_count": null,
   "metadata": {},
   "outputs": [],
   "source": []
  },
  {
   "cell_type": "code",
   "execution_count": 14,
   "metadata": {},
   "outputs": [],
   "source": [
    "autogenerate(\"../src/wmtk/autogen/tri_mesh/autogenerated_tables.{}pp\", tri_data)"
   ]
  },
  {
   "cell_type": "code",
   "execution_count": null,
   "metadata": {},
   "outputs": [],
   "source": []
  }
 ],
 "metadata": {
  "kernelspec": {
   "display_name": "Python 3 (ipykernel)",
   "language": "python",
   "name": "python3"
  },
  "language_info": {
   "codemirror_mode": {
    "name": "ipython",
    "version": 3
   },
   "file_extension": ".py",
   "mimetype": "text/x-python",
   "name": "python",
   "nbconvert_exporter": "python",
   "pygments_lexer": "ipython3",
   "version": "3.10.12"
  }
 },
 "nbformat": 4,
 "nbformat_minor": 2
}
