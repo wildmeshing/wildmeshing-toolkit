{
 "cells": [
  {
   "cell_type": "code",
   "execution_count": 9,
   "id": "continuous-toddler",
   "metadata": {},
   "outputs": [],
   "source": [
    "import plotly.graph_objects as go\n",
    "fig = go.Figure(data=[\n",
    "                        go.Scatter(y = [1,2,3,4,5], name=\"Broad Phase\"),\n",
    "                        go.Scatter(y = [2,3,4,5,6], name=\"Narrow Phase\")])\n",
    "def fix_layout(fig, log):\n",
    "    layout = go.Layout(\n",
    "        paper_bgcolor='rgba(0,0,0,0)',\n",
    "        plot_bgcolor='rgba(0,0,0,0)',\n",
    "        font=dict(\n",
    "            size=30\n",
    "        ),\n",
    "        legend=dict(\n",
    "            yanchor=\"top\",\n",
    "            y=-0.1,\n",
    "            xanchor=\"center\",\n",
    "            x=0.5,\n",
    "            bgcolor=\"white\",\n",
    "            orientation=\"h\"\n",
    "        ),\n",
    "        height=800,\n",
    "        margin=dict(\n",
    "            l=0,\n",
    "            r=0,\n",
    "            b=220,\n",
    "            t=34,\n",
    "            pad=0\n",
    "        )\n",
    "    )\n",
    "    fig.update_layout(layout)\n",
    "    for i in fig['layout']['annotations']:\n",
    "        i['font'] = dict(size=30,color='black')\n",
    "    fig.update_xaxes(showline=True, linewidth=2, linecolor='black')\n",
    "    fig.update_yaxes(showline=True, linewidth=2, linecolor='black', gridcolor='rgb(149, 165, 166)', type=\"log\" if log else \"linear\")"
   ]
  }
 ],
 "metadata": {
  "kernelspec": {
   "display_name": "Python 3",
   "language": "python",
   "name": "python3"
  },
  "language_info": {
   "codemirror_mode": {
    "name": "ipython",
    "version": 3
   },
   "file_extension": ".py",
   "mimetype": "text/x-python",
   "name": "python",
   "nbconvert_exporter": "python",
   "pygments_lexer": "ipython3",
   "version": "3.9.1"
  }
 },
 "nbformat": 4,
 "nbformat_minor": 5
}
