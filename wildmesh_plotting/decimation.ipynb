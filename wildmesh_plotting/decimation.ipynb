{
 "cells": [
  {
   "cell_type": "code",
   "execution_count": 35,
   "id": "thorough-flashing",
   "metadata": {},
   "outputs": [
    {
     "name": "stdout",
     "output_type": "stream",
     "text": [
      "wmtk decimate: 4056 ms \n",
      "# v :  191 \n",
      "# f :  219\n",
      "avg edge len :  31.937073143466684\n"
     ]
    },
    {
     "data": {
      "application/vnd.jupyter.widget-view+json": {
       "model_id": "9ed5e23f53cd45349bedc79143a4c469",
       "version_major": 2,
       "version_minor": 0
      },
      "text/plain": [
       "Renderer(camera=PerspectiveCamera(children=(DirectionalLight(color='white', intensity=0.6, position=(6.9603385…"
      ]
     },
     "metadata": {},
     "output_type": "display_data"
    },
    {
     "data": {
      "text/plain": [
       "0.053106606865035946"
      ]
     },
     "execution_count": 35,
     "metadata": {},
     "output_type": "execute_result"
    }
   ],
   "source": [
    "import igl\n",
    "import meshplot as mp\n",
    "v,f = igl.read_triangle_mesh(\"../build_release/old-max_110000.obj\")\n",
    "print(\"wmtk decimate: 4056 ms \")\n",
    "print(\"# v : \", len(v),\"\\n# f : \",len(f))\n",
    "print(\"avg edge len : \" , igl.avg_edge_length(v,f))\n",
    "\n",
    "mp.plot(v,f,shading={\"wireframe\":True})\n",
    "#./app/edge_operations /max-planck.obj 112000 old-max 0\n",
    "igl.doublearea(v,f).min()"
   ]
  },
  {
   "cell_type": "code",
   "execution_count": 28,
   "id": "moderate-tiffany",
   "metadata": {},
   "outputs": [],
   "source": [
    "import igl\n",
    "import meshplot as mp\n",
    "from timeit import default_timer as timer\n",
    "\n",
    "v,f = igl.read_triangle_mesh(\"../data/max-planck.obj\")\n",
    "start = timer()\n",
    "re = igl.decimate(v,f, 10000)\n",
    "end= timer()\n"
   ]
  },
  {
   "cell_type": "code",
   "execution_count": 34,
   "id": "possible-counter",
   "metadata": {},
   "outputs": [
    {
     "name": "stdout",
     "output_type": "stream",
     "text": [
      "igl decimate:  1252.4168159998226  ms \n",
      "# v :  5023 \n",
      "# f :  9999\n",
      "avg edge len :  6.570355371416812\n"
     ]
    },
    {
     "data": {
      "application/vnd.jupyter.widget-view+json": {
       "model_id": "80acaf1ffcbb49cc86ca00873c842a14",
       "version_major": 2,
       "version_minor": 0
      },
      "text/plain": [
       "Renderer(camera=PerspectiveCamera(children=(DirectionalLight(color='white', intensity=0.6, position=(30.440086…"
      ]
     },
     "metadata": {},
     "output_type": "display_data"
    },
    {
     "data": {
      "text/plain": [
       "<meshplot.Viewer.Viewer at 0x111e8cdf0>"
      ]
     },
     "execution_count": 34,
     "metadata": {},
     "output_type": "execute_result"
    }
   ],
   "source": [
    "newv = re[1]\n",
    "newf = re[2]\n",
    "\n",
    "print(\"igl decimate: \",(end-start)*1000,\" ms \")\n",
    "print(\"# v : \", len(newv),\"\\n# f : \",len(newf))\n",
    "print(\"avg edge len : \" , igl.avg_edge_length(v,f))\n",
    "\n",
    "mp.plot(newv,newf,shading={\"wireframe\":True})\n",
    "#./sec "
   ]
  }
 ],
 "metadata": {
  "kernelspec": {
   "display_name": "Python 3",
   "language": "python",
   "name": "python3"
  },
  "language_info": {
   "codemirror_mode": {
    "name": "ipython",
    "version": 3
   },
   "file_extension": ".py",
   "mimetype": "text/x-python",
   "name": "python",
   "nbconvert_exporter": "python",
   "pygments_lexer": "ipython3",
   "version": "3.9.1"
  }
 },
 "nbformat": 4,
 "nbformat_minor": 5
}
