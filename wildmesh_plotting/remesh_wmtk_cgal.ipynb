{
 "cells": [
  {
   "cell_type": "code",
   "execution_count": 1,
   "id": "eight-syndication",
   "metadata": {},
   "outputs": [
    {
     "name": "stdout",
     "output_type": "stream",
     "text": [
      "wmtk remeshing: 4824 ms \n",
      "# v :  9934 \n",
      "# f :  19864\n",
      "avg edge len :  0.002591243823618574\n"
     ]
    },
    {
     "data": {
      "application/vnd.jupyter.widget-view+json": {
       "model_id": "20ef21717f0f42c38fb5499fc9cb4deb",
       "version_major": 2,
       "version_minor": 0
      },
      "text/plain": [
       "Renderer(camera=PerspectiveCamera(children=(DirectionalLight(color='white', intensity=0.6, position=(-0.016749…"
      ]
     },
     "metadata": {},
     "output_type": "display_data"
    },
    {
     "data": {
      "text/plain": [
       "<meshplot.Viewer.Viewer at 0x10788ef40>"
      ]
     },
     "execution_count": 1,
     "metadata": {},
     "output_type": "execute_result"
    }
   ],
   "source": [
    "import igl\n",
    "import meshplot as mp\n",
    "v,f = igl.read_triangle_mesh(\"wmtk_bunny_remesh_0.5_noenv_0.002330547438531865.obj\")\n",
    "print(\"wmtk remeshing: 4824 ms \")\n",
    "print(\"# v : \", len(v),\"\\n# f : \",len(f))\n",
    "print(\"avg edge len : \" , igl.avg_edge_length(v,f))\n",
    "\n",
    "mp.plot(v,f,shading={\"wireframe\":True})\n",
    "#./app/remeshing_app /bunny.off bunny_remesh_0.5_noenv 0 "
   ]
  },
  {
   "cell_type": "code",
   "execution_count": 100,
   "id": "comparable-daughter",
   "metadata": {},
   "outputs": [
    {
     "name": "stdout",
     "output_type": "stream",
     "text": [
      "cgal remeshing: 6815 ms \n",
      "# v :  15227 \n",
      "# f :  30450\n",
      "avg edge len :  0.0021087435341202417\n"
     ]
    },
    {
     "data": {
      "application/vnd.jupyter.widget-view+json": {
       "model_id": "d6331608e30646e493b3a46d3064b9f6",
       "version_major": 2,
       "version_minor": 0
      },
      "text/plain": [
       "Renderer(camera=PerspectiveCamera(children=(DirectionalLight(color='white', intensity=0.6, position=(-0.016843…"
      ]
     },
     "metadata": {},
     "output_type": "display_data"
    },
    {
     "data": {
      "text/plain": [
       "<meshplot.Viewer.Viewer at 0x1867522e0>"
      ]
     },
     "execution_count": 100,
     "metadata": {},
     "output_type": "execute_result"
    }
   ],
   "source": [
    "import igl\n",
    "import meshplot as mp\n",
    "v, f = igl.read_triangle_mesh(\"/Users/yunfanzhou/Downloads/wildmeshing-toolkit/data/bunny.off\")\n",
    "v,f = igl.read_triangle_mesh(\"cgal_bunny_remesh_0.0023.off\")\n",
    "re = igl.remove_duplicate_vertices(v,f,0)\n",
    "v,f, = re[0], re[2][f]\n",
    "print(\"cgal remeshing: 6815 ms \")\n",
    "print(\"# v : \", len(v),\"\\n# f : \",len(f))\n",
    "print(\"avg edge len : \" , igl.avg_edge_length(v,f))\n",
    "mp.plot(v,f,shading={\"wireframe\":True})\n",
    "\n",
    "#./read 0.0023"
   ]
  }
 ],
 "metadata": {
  "kernelspec": {
   "display_name": "Python 3",
   "language": "python",
   "name": "python3"
  },
  "language_info": {
   "codemirror_mode": {
    "name": "ipython",
    "version": 3
   },
   "file_extension": ".py",
   "mimetype": "text/x-python",
   "name": "python",
   "nbconvert_exporter": "python",
   "pygments_lexer": "ipython3",
   "version": "3.9.1"
  }
 },
 "nbformat": 4,
 "nbformat_minor": 5
}
